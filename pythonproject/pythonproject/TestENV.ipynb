{
 "cells": [
  {
   "cell_type": "code",
   "execution_count": 1,
   "metadata": {},
   "outputs": [],
   "source": [
    "from connector_facade import bq_table\n",
    "from datetime import datetime\n"
   ]
  },
  {
   "cell_type": "code",
   "execution_count": 2,
   "metadata": {},
   "outputs": [],
   "source": [
    "table_values = bq_table()"
   ]
  },
  {
   "cell_type": "code",
   "execution_count": 4,
   "metadata": {},
   "outputs": [
    {
     "name": "stdout",
     "output_type": "stream",
     "text": [
      "beregner\n",
      "beregner\n",
      "beregner\n",
      "beregner\n",
      "beregner\n",
      "beregner\n",
      "video\n",
      "video\n",
      "video\n",
      "video\n",
      "video\n",
      "video\n",
      "video\n"
     ]
    }
   ],
   "source": [
    "for entity in table_values:\n",
    "    print(entity.snippet_type)"
   ]
  },
  {
   "cell_type": "code",
   "execution_count": 3,
   "metadata": {},
   "outputs": [],
   "source": [
    "faketimestamp = '2018-12-01 00:00:00'"
   ]
  },
  {
   "cell_type": "code",
   "execution_count": 4,
   "metadata": {},
   "outputs": [],
   "source": [
    "from connector_facade import get_next_website\n"
   ]
  },
  {
   "cell_type": "code",
   "execution_count": 6,
   "metadata": {},
   "outputs": [
    {
     "name": "stdout",
     "output_type": "stream",
     "text": [
      "Row((u'lpb.dk', u'www.lpb.dk', u'2018-09-01 00:00:00', None, None, None, None), {u'website': 0, u'start_url': 1, u'lastCrawled': 2, u'lastCrawledMonth': 3, u'totalSitesCrawled': 4, u'crawlInProgress': 5, u'allowedDomains': 6})\n"
     ]
    },
    {
     "data": {
      "text/plain": [
       "u'lpb.dk'"
      ]
     },
     "execution_count": 6,
     "metadata": {},
     "output_type": "execute_result"
    }
   ],
   "source": [
    "get_next_website(faketimestamp)[0].website"
   ]
  },
  {
   "cell_type": "code",
   "execution_count": 7,
   "metadata": {},
   "outputs": [],
   "source": [
    "from datetime import datetime \n",
    "current_dt = datetime.now()\n",
    "currentTime = str(current_dt)\n",
    "month = datetime.now().strftime(\"%m\")"
   ]
  },
  {
   "cell_type": "code",
   "execution_count": 8,
   "metadata": {},
   "outputs": [
    {
     "data": {
      "text/plain": [
       "'12'"
      ]
     },
     "execution_count": 8,
     "metadata": {},
     "output_type": "execute_result"
    }
   ],
   "source": [
    "month"
   ]
  },
  {
   "cell_type": "code",
   "execution_count": 9,
   "metadata": {},
   "outputs": [
    {
     "data": {
      "text/plain": [
       "'2018-12-17 17:17:34.412035'"
      ]
     },
     "execution_count": 9,
     "metadata": {},
     "output_type": "execute_result"
    }
   ],
   "source": [
    "currentTime"
   ]
  },
  {
   "cell_type": "code",
   "execution_count": 10,
   "metadata": {},
   "outputs": [],
   "source": [
    "today = datetime.today()\n",
    "cmt = str(datetime(today.year, today.month, 1))\n",
    "currentMonthTimeStamp = cmt"
   ]
  },
  {
   "cell_type": "code",
   "execution_count": 11,
   "metadata": {},
   "outputs": [
    {
     "data": {
      "text/plain": [
       "'2018-12-01 00:00:00'"
      ]
     },
     "execution_count": 11,
     "metadata": {},
     "output_type": "execute_result"
    }
   ],
   "source": [
    "currentMonthTimeStamp"
   ]
  },
  {
   "cell_type": "code",
   "execution_count": 12,
   "metadata": {},
   "outputs": [],
   "source": [
    "today = datetime.today()\n",
    "current_month_timestamp = str(datetime(today.year, today.month, 1))"
   ]
  },
  {
   "cell_type": "code",
   "execution_count": 13,
   "metadata": {},
   "outputs": [
    {
     "data": {
      "text/plain": [
       "'2018-12-01 00:00:00'"
      ]
     },
     "execution_count": 13,
     "metadata": {},
     "output_type": "execute_result"
    }
   ],
   "source": [
    "current_month_timestamp"
   ]
  },
  {
   "cell_type": "code",
   "execution_count": 14,
   "metadata": {},
   "outputs": [],
   "source": [
    "current_dt = datetime.now()\n",
    "current_time = str(current_dt)"
   ]
  },
  {
   "cell_type": "code",
   "execution_count": 15,
   "metadata": {},
   "outputs": [
    {
     "data": {
      "text/plain": [
       "'2018-12-17 18:50:17.842735'"
      ]
     },
     "execution_count": 15,
     "metadata": {},
     "output_type": "execute_result"
    }
   ],
   "source": [
    "current_time"
   ]
  },
  {
   "cell_type": "code",
   "execution_count": 1,
   "metadata": {},
   "outputs": [],
   "source": [
    "from connector_facade import *"
   ]
  },
  {
   "cell_type": "code",
   "execution_count": 2,
   "metadata": {},
   "outputs": [],
   "source": [
    "faketimestamp = '2018-10-01 00:00:00'"
   ]
  },
  {
   "cell_type": "code",
   "execution_count": 3,
   "metadata": {},
   "outputs": [
    {
     "name": "stdout",
     "output_type": "stream",
     "text": [
      "updated timestamp\n"
     ]
    },
    {
     "data": {
      "text/plain": [
       "<google.cloud.bigquery.table._EmptyRowIterator at 0x11d57a050>"
      ]
     },
     "execution_count": 3,
     "metadata": {},
     "output_type": "execute_result"
    }
   ],
   "source": [
    "update_timestamp('09', \"none\", \"lsb.dk\", faketimestamp, \"0\")"
   ]
  },
  {
   "cell_type": "code",
   "execution_count": 4,
   "metadata": {},
   "outputs": [
    {
     "name": "stdout",
     "output_type": "stream",
     "text": [
      "https://www.youtube.com/embed/eiTpiJGoQZE\n",
      "https://www.youtube.com/embed/9GBMWuokTsw\n",
      "https://www.youtube.com/embed/q0eWnIV7AXw\n",
      "https://www.youtube.com/embed/_g5807GptYQ\n",
      "https://www.youtube.com/embed/xCeQJhcvh7c\n",
      "https://www.youtube.com/embed/qEFgz8XAF\n",
      "https://www.youtube.com/embed/7AeVn6y6H8g\n",
      "tk-equity\n",
      "tk-newloan\n",
      "tk-addloan\n",
      "tk-whatcaniafford\n",
      "tk-newruleshousingloan\n",
      "tk-kunde-kroner\n"
     ]
    }
   ],
   "source": [
    "for entity in bq_table():\n",
    "    print(entity.snippet_value)"
   ]
  },
  {
   "cell_type": "code",
   "execution_count": 3,
   "metadata": {},
   "outputs": [
    {
     "data": {
      "text/plain": [
       "[]"
      ]
     },
     "execution_count": 3,
     "metadata": {},
     "output_type": "execute_result"
    }
   ],
   "source": [
    "response_data('test.dk', 'snipName', 'locPath', faketimestamp)"
   ]
  },
  {
   "cell_type": "code",
   "execution_count": null,
   "metadata": {},
   "outputs": [],
   "source": []
  }
 ],
 "metadata": {
  "kernelspec": {
   "display_name": "Python 3",
   "language": "python",
   "name": "python3"
  },
  "language_info": {
   "codemirror_mode": {
    "name": "ipython",
    "version": 2
   },
   "file_extension": ".py",
   "mimetype": "text/x-python",
   "name": "python",
   "nbconvert_exporter": "python",
   "pygments_lexer": "ipython2",
   "version": "2.7.15"
  }
 },
 "nbformat": 4,
 "nbformat_minor": 2
}
